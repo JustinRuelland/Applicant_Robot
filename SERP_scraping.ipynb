{
 "cells": [
  {
   "cell_type": "code",
   "execution_count": 1,
   "id": "8f7d5e11",
   "metadata": {},
   "outputs": [],
   "source": [
    "import requests"
   ]
  },
  {
   "cell_type": "code",
   "execution_count": 2,
   "id": "7dc0c16b",
   "metadata": {},
   "outputs": [],
   "source": [
    "URL = 'https://www.google.com/search?q=data+science+paris+linkedin+head+of&client=safari&rls=en&sxsrf=APwXEddOtGWD_7Byo-xK1Mj-n2KzILAqiA%3A1687020111567&ei=T-KNZJecIuqCkdUP_qCVMA&ved=0ahUKEwjX_-nT38r_AhVqQaQEHX5QBQYQ4dUDCA4&uact=5&oq=data+science+paris+linkedin+head+of&gs_lcp=Cgxnd3Mtd2l6LXNlcnAQAzIFCCEQoAEyBQghEKABMgUIIRCgATIFCCEQoAEyBQghEKABOgoIABBHENYEELADOg0IABBHENYEEMkDELADOgsIABCKBRCSAxCwAzoICCEQFhAeEB1KBAhBGABQnQhYmhNghhRoAXABeACAAXWIAboFkgEDNi4ymAEAoAEBwAEByAEJ&sclient=gws-wiz-serp'"
   ]
  },
  {
   "cell_type": "code",
   "execution_count": 3,
   "id": "b00d8038",
   "metadata": {},
   "outputs": [],
   "source": [
    "page = requests.get(URL)"
   ]
  },
  {
   "cell_type": "code",
   "execution_count": 4,
   "id": "b38e9ed3",
   "metadata": {},
   "outputs": [
    {
     "data": {
      "text/plain": [
       "'<!DOCTYPE html><html lang=\"fr\" dir=\"ltr\"><head><style nonce=\"9ySh4MFRE_HHIGNOZHnHLQ\">\\na, a:link, a:visited, a:active, a:hover {\\n  color: #1a73e8;\\n  text-decoration: none;\\n}\\nbody {\\n  font-family: Roboto,RobotoDraft,Helvetica,Arial,sans-serif;\\n  text-align: center;\\n  -ms-text-size-adjust: 100%;\\n  -moz-text-size-adjust: 100%;\\n  -webkit-text-size-adjust: 100%;\\n}\\n.box {\\n  border: 1px solid #dadce0;\\n  box-sizing: border-box;\\n  border-radius: 8px;\\n  margin: 24px auto 5px auto;\\n  max-width: 800px;\\n  padding: 24px;\\n}\\nh1 {\\n  color: #2c2c2c;\\n  font-size: 24px;\\n  hyphens: auto;\\n  margin: 24px 0;\\n}\\n.icaCallout {\\n  background-color: #f8f9fa;\\n  padding: 12px 16px;\\n  border-radius: 10px;\\n  margin-bottom: 10px;\\n}\\np, .sub, .contentText, .icaCallout {\\n  color: #5f6368;;\\n  font-size: 14px;\\n  line-height: 20px;\\n  letter-spacing: 0.2px;\\n  text-align: left;\\n}\\n.signin {\\n  text-align: right;\\n}\\n.signinUIModernization {\\n  height: 36px;\\n  text-align: right;\\n}\\n.signinButonDisplayUIModernization {\\n  display: inline-block;\\n  box-sizing: border-box;\\n}\\n.signinUIModernization a,\\n.signinUIModernization a:link,\\n.signinUIModernization a:visited,\\n.signinUIModernization a:active,\\n.signinUIModernization a:hover {\\n  color: #fff;\\n  text-decoration: none;\\n}\\n.signinUIModernization a:focus {\\n  color: #0f0f0f;\\n  text-decoration: none;\\n}\\n.saveButtonContainer,\\n.saveButtonContainerNarrowScreen {\\n  width: 100%;\\n  margin-top: 12px;\\n}\\n.customButtonContainer {\\n  height: 20px;\\n  padding: 8px 0;\\n  margin-top: 8px;\\n}\\n.navigationCtasYoutube {\\n  text-align: right;\\n}\\na.button {\\n  color: #fff;\\n}\\na.hairlinebutton,\\na.nolinebutton{\\n  color: #1a73e8;\\n}\\n.navigationCtasYoutube a.hairlinebutton {\\n  border-color: #1a73e8;\\n}\\nbutton, .button {\\n  background-color: #1a73e8;\\n  border: none;\\n  color: #fff;\\n}\\ninput.button {\\n  -webkit-appearance: none;\\n}\\n.basebutton {\\n  border-radius: 4px;\\n  cursor: pointer;\\n  font-family: Roboto,RobotoDraft,Helvetica,Arial,sans-serif;\\n  font-size: 14px;\\n  font-weight: 500;\\n  height: 36px;\\n  margin: 12px 4px 0;\\n  padding: 8px 24px;\\n}\\n.hairlinebutton {\\n  background-color: #fff;\\n  border-width: 1px;\\n  border-color: #dadce0;\\n  border-style: solid;\\n  max-height: 15px;\\n}\\n.basebuttonUIModernization {\\n  text-align: center;\\n  vertical-align: middle;\\n  line-height: 18px;\\n  border-radius: 18px;\\n  cursor: pointer;\\n  font-family: Roboto, Arial, sans-serif;\\n  font-size: 14px;\\n  font-weight: 500;\\n  font-style: normal;\\n  min-width: 75px;\\n  height: 36px;\\n  padding: 7px 12px;\\n}\\n.hairlinebuttonUIModernization {\\n  background-color: #0f0f0f;\\n  border-width: 2px;\\n  border-color: transparent;\\n  border-style: solid;\\n  color: #fff;\\n  }\\n.hairlinebuttonUIModernization:focus {\\n  background-color: #fff;\\n  border-width: 1px;\\n  border-color: #0f0f0f;\\n  border-style: solid;\\n  color: #0f0f0f;\\n  padding: 8px 12px;\\n}\\n.customizeButtonUIModernization {\\n  min-width: 120px;\\n  background-color: #f2f2f2;\\n  text-align: center;\\n}\\n.customizeButtonUIModernization:focus {\\n  background-color: #fff;\\n  border-width: 1px;\\n  border-color: #0f0f0f;\\n  border-style: solid;\\n  padding: 8px 12px;\\n}\\na.basebuttonUIModernization.customizeButtonUIModernization,\\na.basebuttonUIModernization.customizeButtonUIModernization:link,\\na.basebuttonUIModernization.customizeButtonUIModernization:visited,\\na.basebuttonUIModernization.customizeButtonUIModernization:active,\\na.basebuttonUIModernization.customizeButtonUIModernization:hover {\\n  color: #0f0f0f;\\n  text-decoration: none;\\n}\\na.basebuttonUIModernization.customizeButtonUIModernization:focus {\\n  color: #0f0f0f;\\n  text-decoration: none;\\n}\\n.saveButtonUIModernization {\\n  min-width: 120px;\\n  text-align: center;\\n}\\n.detailsButtonUIModernization {\\n  min-width: 220px;\\n  text-align: center;\\n  background-color: #0f0f0f;\\n  border-width: 1px;\\n  border-color: transparent;\\n  border-style: solid;\\n  color: #fff;\\n}\\n.detailsButtonUIModernization:focus {\\n  background-color: #fff;\\n  border-width: 1px;\\n  border-color: #0f0f0f;\\n  border-style: solid;\\n  color: #0f0f0f;\\n}\\n.error {\\n  border: 2px solid #d93025;\\n  border-radius: 5px;\\n  color: #d93025;\\n  margin: auto;\\n  padding: 5px;\\n}\\n.box a:hover, .detailspage a:hover {\\n  text-decoration: underline;\\n}\\n.footer {\\n  margin-top: 16px;\\n}\\n.footer a {\\n  margin-left: 24px;\\n  white-space: nowrap;\\n}\\n.footer a, .footer select, .footer input {\\n  color: #757575;\\n  font-size: 12px;\\n}\\n.languagepicker {\\n  display: inline-flex;\\n  margin: 2px 0;\\n}\\n#languageform,\\n#languageselect {\\n  margin: 0 2px;\\n}\\n#languageselect {\\n  color: #757575;\\n}\\n.detailspage {\\n  margin: 24px auto 0 auto;\\n  max-width: 700px;\\n}\\n.detailspage h1, .detailspage h2 {\\n  font-size: 22px\\n}\\n.setting {\\n  border: 1px solid #dadce0;\\n  box-sizing: border-box;\\n  border-radius: 8px;\\n  margin-bottom: 11px;\\n  padding: 24px 24px 20px 24px;\\n  text-align: right;\\n}\\n.sub {\\n  padding: 24px 24px 20px 24px;\\n}\\nhr {\\n  margin: 12px -24px 12px;\\n  border: 0;\\n  border-top: 1px solid #dadce0;\\n}\\nfieldset {\\n  border: none;\\n  padding: 0;\\n}\\nlabel {\\n  margin: 24px;\\n}\\ntd {\\n  vertical-align: top;\\n}\\n.setting h2, .setting h3, h4 {\\n  color: #3c4043;\\n  margin: 0;\\n  text-align: left;\\n}\\n.yt-text {\\n  color: #5f6368;\\n  font-size: 14px;\\n  font-weight: 300;\\n}\\n.productLogoContainer {\\n  margin: auto;\\n  max-width: 360px;\\n}\\n\\n/** Narrow screen (for example a mobile device). */\\n@media only screen and (max-width: 480px) {\\n  body {\\n    margin: 18px 14px;\\n  }\\n  .footer form {\\n    margin-bottom: 3px;\\n  }\\n  .imgContainer {\\n    min-width: 96px;\\n  }\\n  button, .button {\\n    width:100%;\\n  }\\n  .basebutton {\\n    margin: 12px 0 0;\\n  }\\n  .hideOnSmallWidth {\\n    display: none;\\n  }\\n  .saveButtonContainerNarrowScreen {\\n    display: inline-block;\\n  }\\n  .saveButtonContainer {\\n    display: none;\\n  }\\n  .navigationCtasYoutube a.hairlinebutton {\\n    display: block;\\n    text-align: center;\\n  }\\n  .detailsButtonUIModernization,\\n  .customizeButtonUIModernization,\\n  .saveButtonUIModernization {\\n    display: block;\\n    box-sizing: border-box;\\n    width:100%;\\n    margin-top: 12px;\\n  }\\n}\\n\\n@media only screen and (max-width: 380px) {\\n  .imgContainer {\\n    min-width: 72px;\\n  }\\n}\\n\\n/** Normal/non-narrow screen. */\\n@media not screen and (max-width: 480px) {\\n  body {\\n    margin: 18px 25px;\\n  }\\n  .footer form {\\n    display: inline;\\n  }\\n  .imgContainer {\\n    width: 51%;\\n  }\\n  button, .button {\\n    width: auto;\\n  }\\n  .searchButton {\\n    min-width: 182px;\\n  }\\n  .detailsButton {\\n    min-width: 220px;\\n  }\\n  .hideOnNormalWidth {\\n    display: none;\\n  }\\n  .saveButtonContainer {\\n    display: inline-block;\\n  }\\n  .saveButtonContainerNarrowScreen {\\n    display: none;\\n  }\\n  .saveButtonUIModernization {\\n    margin-left: 8px;\\n  }\\n  .detailsButtonUIModernization {\\n    margin-top: 12px;\\n  }\\n}\\n</style><title>Avant d&#39;accéder à la recherche\\xa0Google</title><meta name=\"viewport\" content=\"initial-scale=1, maximum-scale=5, width=device-width\"><link rel=\"shortcut icon\" href=\"//www.google.com/favicon.ico\"></head><body><div class=\"signin\"><a href=\"https://accounts.google.com/ServiceLogin?hl=fr&amp;continue=https://www.google.com/search?q%3Ddata%2Bscience%2Bparis%2Blinkedin%2Bhead%2Bof%26client%3Dsafari%26rls%3Den%26sxsrf%3DAPwXEddOtGWD_7Byo-xK1Mj-n2KzILAqiA%253A1687020111567%26ei%3DT-KNZJecIuqCkdUP_qCVMA%26ved%3D0ahUKEwjX_-nT38r_AhVqQaQEHX5QBQYQ4dUDCA4%26uact%3D5%26oq%3Ddata%2Bscience%2Bparis%2Blinkedin%2Bhead%2Bof%26gs_lcp%3DCgxnd3Mtd2l6LXNlcnAQAzIFCCEQoAEyBQghEKABMgUIIRCgATIFCCEQoAEyBQghEKABOgoIABBHENYEELADOg0IABBHENYEEMkDELADOgsIABCKBRCSAxCwAzoICCEQFhAeEB1KBAhBGABQnQhYmhNghhRoAXABeACAAXWIAboFkgEDNi4ymAEAoAEBwAEByAEJ%26sclient%3Dgws-wiz-serp&amp;gae=cb-eomsrc2\" class=\"basebutton hairlinebutton\">Se connecter</a></div><div class=\"box\"><img src=\"//www.gstatic.com/images/branding/googlelogo/1x/googlelogo_color_68x28dp.png\" srcset=\"//www.gstatic.com/images/branding/googlelogo/2x/googlelogo_color_68x28dp.png 2x\" width=\"68\" height=\"28\" alt=\"Google\"><h1>Avant d\\'accéder à Google</h1><div class=\"contentText\">Nous utilisons des <a href=\"https://policies.google.com/technologies/cookies?hl=fr&utm_source=ucb\" target=\"_blank\">cookies</a> et d\\'autres données pour\\xa0:<ul><li>Proposer les services Google et s\\'assurer qu\\'ils fonctionnent correctement</li><li>Suivre les interruptions de service et protéger contre le spam, les fraudes et les abus</li><li>Mesurer l\\'engagement de l\\'audience et les statistiques des sites pour comprendre la façon dont nos services sont utilisés et pour améliorer leur qualité</li></ul>Si vous cliquez sur \"Tout accepter\", nous utiliserons également des cookies et d\\'autres données pour :<ul><li>Développer de nouveaux services et les améliorer</li><li>Diffuser des annonces et évaluer leur efficacité</li><li>Proposer des contenus personnalisés en fonction de vos paramètres</li><li>Afficher des annonces personnalisées en fonction de vos paramètres</li></ul><div>Si vous cliquez sur \"Tout refuser\", nous n\\'utiliserons pas de cookies pour ces fins supplémentaires.</div><br><div>Les contenus non personnalisés dépendent, par exemple, du contenu du site que vous consultez, de l\\'activité de votre session de recherche en cours et de votre position. Les annonces non personnalisées dépendent du contenu du site que vous consultez et de votre position approximative. Les annonces et les contenus personnalisés peuvent aussi inclure des résultats plus pertinents, des recommandations et des annonces adaptées en fonction de votre activité passée sur ce navigateur, comme vos  précédentes recherches sur Google. Le cas échéant, nous adaptons également l’expérience en fonction de l’âge de l’utilisateur à l\\'aide de cookies et de données.</div><br>Cliquez sur \"Plus d&#39;options\" pour afficher plus d\\'informations, y compris sur la manière de gérer vos paramètres de confidentialité. Vous pouvez aussi consulter la page g.co/privacytools à tout moment.</div><div class=\"saveButtonContainer\"><form action=\"https://consent.google.com/save\" method=\"POST\" style=\"display:inline;\"><input type=\"hidden\" name=\"bl\" value=\"boq_identityfrontenduiserver_20230613.00_p0\"><input type=\"hidden\" name=\"x\" value=\"8\"><input type=\"hidden\" name=\"gl\" value=\"FR\"><input type=\"hidden\" name=\"m\" value=\"0\"><input type=\"hidden\" name=\"app\" value=\"0\"><input type=\"hidden\" name=\"pc\" value=\"srp\"><input type=\"hidden\" name=\"continue\" value=\"https://www.google.com/search?q=data+science+paris+linkedin+head+of&amp;client=safari&amp;rls=en&amp;sxsrf=APwXEddOtGWD_7Byo-xK1Mj-n2KzILAqiA%3A1687020111567&amp;ei=T-KNZJecIuqCkdUP_qCVMA&amp;ved=0ahUKEwjX_-nT38r_AhVqQaQEHX5QBQYQ4dUDCA4&amp;uact=5&amp;oq=data+science+paris+linkedin+head+of&amp;gs_lcp=Cgxnd3Mtd2l6LXNlcnAQAzIFCCEQoAEyBQghEKABMgUIIRCgATIFCCEQoAEyBQghEKABOgoIABBHENYEELADOg0IABBHENYEEMkDELADOgsIABCKBRCSAxCwAzoICCEQFhAeEB1KBAhBGABQnQhYmhNghhRoAXABeACAAXWIAboFkgEDNi4ymAEAoAEBwAEByAEJ&amp;sclient=gws-wiz-serp\"><input type=\"hidden\" name=\"hl\" value=\"fr\"><input type=\"hidden\" name=\"uxe\" value=\"eomsrc2\"><input type=\"hidden\" name=\"set_eom\" value=\"true\"><input type=\"submit\" value=\"Tout refuser\" class=\"basebutton button searchButton\" aria-label=\"Tout refuser\"/></form><form action=\"https://consent.google.com/save\" method=\"POST\" style=\"display:inline;\"><input type=\"hidden\" name=\"bl\" value=\"boq_identityfrontenduiserver_20230613.00_p0\"><input type=\"hidden\" name=\"x\" value=\"8\"><input type=\"hidden\" name=\"gl\" value=\"FR\"><input type=\"hidden\" name=\"m\" value=\"0\"><input type=\"hidden\" name=\"app\" value=\"0\"><input type=\"hidden\" name=\"pc\" value=\"srp\"><input type=\"hidden\" name=\"continue\" value=\"https://www.google.com/search?q=data+science+paris+linkedin+head+of&amp;client=safari&amp;rls=en&amp;sxsrf=APwXEddOtGWD_7Byo-xK1Mj-n2KzILAqiA%3A1687020111567&amp;ei=T-KNZJecIuqCkdUP_qCVMA&amp;ved=0ahUKEwjX_-nT38r_AhVqQaQEHX5QBQYQ4dUDCA4&amp;uact=5&amp;oq=data+science+paris+linkedin+head+of&amp;gs_lcp=Cgxnd3Mtd2l6LXNlcnAQAzIFCCEQoAEyBQghEKABMgUIIRCgATIFCCEQoAEyBQghEKABOgoIABBHENYEELADOg0IABBHENYEEMkDELADOgsIABCKBRCSAxCwAzoICCEQFhAeEB1KBAhBGABQnQhYmhNghhRoAXABeACAAXWIAboFkgEDNi4ymAEAoAEBwAEByAEJ&amp;sclient=gws-wiz-serp\"><input type=\"hidden\" name=\"hl\" value=\"fr\"><input type=\"hidden\" name=\"uxe\" value=\"eomsrc2\"><input type=\"hidden\" name=\"set_eom\" value=\"false\"><input type=\"hidden\" name=\"set_sc\" value=\"true\"><input type=\"hidden\" name=\"set_aps\" value=\"true\"><input type=\"submit\" value=\"Tout accepter\" class=\"basebutton button searchButton\" aria-label=\"Tout accepter\"/></form></div><div class=\"saveButtonContainerNarrowScreen\"><form action=\"https://consent.google.com/save\" method=\"POST\" style=\"display:block;\"><input type=\"hidden\" name=\"bl\" value=\"boq_identityfrontenduiserver_20230613.00_p0\"><input type=\"hidden\" name=\"x\" value=\"8\"><input type=\"hidden\" name=\"gl\" value=\"FR\"><input type=\"hidden\" name=\"m\" value=\"0\"><input type=\"hidden\" name=\"app\" value=\"0\"><input type=\"hidden\" name=\"pc\" value=\"srp\"><input type=\"hidden\" name=\"continue\" value=\"https://www.google.com/search?q=data+science+paris+linkedin+head+of&amp;client=safari&amp;rls=en&amp;sxsrf=APwXEddOtGWD_7Byo-xK1Mj-n2KzILAqiA%3A1687020111567&amp;ei=T-KNZJecIuqCkdUP_qCVMA&amp;ved=0ahUKEwjX_-nT38r_AhVqQaQEHX5QBQYQ4dUDCA4&amp;uact=5&amp;oq=data+science+paris+linkedin+head+of&amp;gs_lcp=Cgxnd3Mtd2l6LXNlcnAQAzIFCCEQoAEyBQghEKABMgUIIRCgATIFCCEQoAEyBQghEKABOgoIABBHENYEELADOg0IABBHENYEEMkDELADOgsIABCKBRCSAxCwAzoICCEQFhAeEB1KBAhBGABQnQhYmhNghhRoAXABeACAAXWIAboFkgEDNi4ymAEAoAEBwAEByAEJ&amp;sclient=gws-wiz-serp\"><input type=\"hidden\" name=\"hl\" value=\"fr\"><input type=\"hidden\" name=\"uxe\" value=\"eomsrc2\"><input type=\"hidden\" name=\"set_eom\" value=\"false\"><input type=\"hidden\" name=\"set_sc\" value=\"true\"><input type=\"hidden\" name=\"set_aps\" value=\"true\"><input type=\"submit\" value=\"Tout accepter\" class=\"basebutton button searchButton\" aria-label=\"Tout accepter\"/></form><form action=\"https://consent.google.com/save\" method=\"POST\" style=\"display:block;\"><input type=\"hidden\" name=\"bl\" value=\"boq_identityfrontenduiserver_20230613.00_p0\"><input type=\"hidden\" name=\"x\" value=\"8\"><input type=\"hidden\" name=\"gl\" value=\"FR\"><input type=\"hidden\" name=\"m\" value=\"0\"><input type=\"hidden\" name=\"app\" value=\"0\"><input type=\"hidden\" name=\"pc\" value=\"srp\"><input type=\"hidden\" name=\"continue\" value=\"https://www.google.com/search?q=data+science+paris+linkedin+head+of&amp;client=safari&amp;rls=en&amp;sxsrf=APwXEddOtGWD_7Byo-xK1Mj-n2KzILAqiA%3A1687020111567&amp;ei=T-KNZJecIuqCkdUP_qCVMA&amp;ved=0ahUKEwjX_-nT38r_AhVqQaQEHX5QBQYQ4dUDCA4&amp;uact=5&amp;oq=data+science+paris+linkedin+head+of&amp;gs_lcp=Cgxnd3Mtd2l6LXNlcnAQAzIFCCEQoAEyBQghEKABMgUIIRCgATIFCCEQoAEyBQghEKABOgoIABBHENYEELADOg0IABBHENYEEMkDELADOgsIABCKBRCSAxCwAzoICCEQFhAeEB1KBAhBGABQnQhYmhNghhRoAXABeACAAXWIAboFkgEDNi4ymAEAoAEBwAEByAEJ&amp;sclient=gws-wiz-serp\"><input type=\"hidden\" name=\"hl\" value=\"fr\"><input type=\"hidden\" name=\"uxe\" value=\"eomsrc2\"><input type=\"hidden\" name=\"set_eom\" value=\"true\"><input type=\"submit\" value=\"Tout refuser\" class=\"basebutton button searchButton\" aria-label=\"Tout refuser\"/></form></div><div class=\"customButtonContainer\"><a href=\"https://consent.google.com/dl?continue=https://www.google.com/search?q%3Ddata%2Bscience%2Bparis%2Blinkedin%2Bhead%2Bof%26client%3Dsafari%26rls%3Den%26sxsrf%3DAPwXEddOtGWD_7Byo-xK1Mj-n2KzILAqiA%253A1687020111567%26ei%3DT-KNZJecIuqCkdUP_qCVMA%26ved%3D0ahUKEwjX_-nT38r_AhVqQaQEHX5QBQYQ4dUDCA4%26uact%3D5%26oq%3Ddata%2Bscience%2Bparis%2Blinkedin%2Bhead%2Bof%26gs_lcp%3DCgxnd3Mtd2l6LXNlcnAQAzIFCCEQoAEyBQghEKABMgUIIRCgATIFCCEQoAEyBQghEKABOgoIABBHENYEELADOg0IABBHENYEEMkDELADOgsIABCKBRCSAxCwAzoICCEQFhAeEB1KBAhBGABQnQhYmhNghhRoAXABeACAAXWIAboFkgEDNi4ymAEAoAEBwAEByAEJ%26sclient%3Dgws-wiz-serp&amp;gl=FR&amp;hl=fr&amp;pc=srp&amp;uxe=eomsrc2&amp;src=1\" class=\"basebutton nolinebutton\">Plus d&#39;options</a></div></div><div class=\"footer\"><form action=\"https://consent.google.com/ml\" method=\"get\"><select id=\"languageselect\" name=\"hl\"><option value=\"af\">Afrikaans</option><option value=\"az\">azərbaycan</option><option value=\"bs\">bosanski</option><option value=\"ca\">català</option><option value=\"cs\">Čeština</option><option value=\"cy\">Cymraeg</option><option value=\"da\">Dansk</option><option value=\"de\">Deutsch</option><option value=\"et\">eesti</option><option value=\"en-GB\">English&nbsp;(United Kingdom)</option><option value=\"en\">English&nbsp;(United States)</option><option value=\"es\">Español&nbsp;(España)</option><option value=\"es-419\">Español&nbsp;(Latinoamérica)</option><option value=\"eu\">euskara</option><option value=\"fil\">Filipino</option><option value=\"fr-CA\">Français&nbsp;(Canada)</option><option value=\"fr\" selected>Français&nbsp;(France)</option><option value=\"ga\">Gaeilge</option><option value=\"gl\">galego</option><option value=\"hr\">Hrvatski</option><option value=\"id\">Indonesia</option><option value=\"zu\">isiZulu</option><option value=\"is\">íslenska</option><option value=\"it\">Italiano</option><option value=\"sw\">Kiswahili</option><option value=\"lv\">latviešu</option><option value=\"lt\">lietuvių</option><option value=\"hu\">magyar</option><option value=\"ms\">Melayu</option><option value=\"nl\">Nederlands</option><option value=\"no\">norsk</option><option value=\"uz\">o‘zbek</option><option value=\"pl\">polski</option><option value=\"pt-BR\">Português&nbsp;(Brasil)</option><option value=\"pt-PT\">Português&nbsp;(Portugal)</option><option value=\"ro\">română</option><option value=\"sq\">shqip</option><option value=\"sk\">Slovenčina</option><option value=\"sl\">slovenščina</option><option value=\"sr-Latn\">srpski (latinica)</option><option value=\"fi\">Suomi</option><option value=\"sv\">Svenska</option><option value=\"vi\">Tiếng Việt</option><option value=\"tr\">Türkçe</option><option value=\"el\">Ελληνικά</option><option value=\"be\">беларуская</option><option value=\"bg\">български</option><option value=\"ky\">кыргызча</option><option value=\"kk\">қазақ тілі</option><option value=\"mk\">македонски</option><option value=\"mn\">монгол</option><option value=\"ru\">Русский</option><option value=\"sr\">српски</option><option value=\"uk\">Українська</option><option value=\"ka\">ქართული</option><option value=\"hy\">հայերեն</option><option value=\"iw\">עברית</option><option value=\"ur\">اردو</option><option value=\"ar\">العربية</option><option value=\"fa\">فارسی</option><option value=\"am\">አማርኛ</option><option value=\"ne\">नेपाली</option><option value=\"mr\">मराठी</option><option value=\"hi\">हिन्दी</option><option value=\"as\">অসমীয়া</option><option value=\"bn\">বাংলা</option><option value=\"pa\">ਪੰਜਾਬੀ</option><option value=\"gu\">ગુજરાતી</option><option value=\"or\">ଓଡ଼ିଆ</option><option value=\"ta\">தமிழ்</option><option value=\"te\">తెలుగు</option><option value=\"kn\">ಕನ್ನಡ</option><option value=\"ml\">മലയാളം</option><option value=\"si\">සිංහල</option><option value=\"th\">ไทย</option><option value=\"lo\">ລາວ</option><option value=\"my\">မြန်မာ</option><option value=\"km\">ខ្មែរ</option><option value=\"ko\">한국어</option><option value=\"ja\">日本語</option><option value=\"zh-CN\">简体中文</option><option value=\"zh-TW\">繁體中文</option><option value=\"zh-HK\">繁體中文&nbsp;(香港)</option></select><input type=\"hidden\" name=\"oldhl\" value=\"fr\"><input type=\"hidden\" name=\"gl\" value=\"FR\"><input type=\"hidden\" name=\"m\" value=\"0\"><input type=\"hidden\" name=\"app\" value=\"0\"><input type=\"hidden\" name=\"pc\" value=\"srp\"><input type=\"hidden\" name=\"continue\" value=\"https://www.google.com/search?q=data+science+paris+linkedin+head+of&amp;client=safari&amp;rls=en&amp;sxsrf=APwXEddOtGWD_7Byo-xK1Mj-n2KzILAqiA%3A1687020111567&amp;ei=T-KNZJecIuqCkdUP_qCVMA&amp;ved=0ahUKEwjX_-nT38r_AhVqQaQEHX5QBQYQ4dUDCA4&amp;uact=5&amp;oq=data+science+paris+linkedin+head+of&amp;gs_lcp=Cgxnd3Mtd2l6LXNlcnAQAzIFCCEQoAEyBQghEKABMgUIIRCgATIFCCEQoAEyBQghEKABOgoIABBHENYEELADOg0IABBHENYEEMkDELADOgsIABCKBRCSAxCwAzoICCEQFhAeEB1KBAhBGABQnQhYmhNghhRoAXABeACAAXWIAboFkgEDNi4ymAEAoAEBwAEByAEJ&amp;sclient=gws-wiz-serp\"><input type=\"hidden\" name=\"src\" value=\"1\"><input type=\"submit\" value=\"Changer de langue\"></form><a href=\"https://policies.google.com/privacy?hl=fr&utm_source=ucb\">Règles de confidentialité</a> <a href=\"https://policies.google.com/terms?hl=fr&utm_source=ucb\">Conditions d&#39;utilisation</a></div></body></html>'"
      ]
     },
     "execution_count": 4,
     "metadata": {},
     "output_type": "execute_result"
    }
   ],
   "source": [
    "page.text"
   ]
  },
  {
   "cell_type": "code",
   "execution_count": 6,
   "id": "b95ee613",
   "metadata": {},
   "outputs": [],
   "source": [
    "from selenium import webdriver\n",
    "from selenium.webdriver.common.keys import Keys\n",
    "import pandas as pd"
   ]
  },
  {
   "cell_type": "code",
   "execution_count": 10,
   "id": "34068b2d",
   "metadata": {},
   "outputs": [],
   "source": [
    "from selenium.webdriver.common.by import By"
   ]
  },
  {
   "cell_type": "code",
   "execution_count": 26,
   "id": "d896b8e6",
   "metadata": {},
   "outputs": [],
   "source": [
    "driver = webdriver.Chrome()\n",
    "driver.get(URL)\n",
    "try: \n",
    "    driver.find_element(By.ID, 'L2AGLb').click() \n",
    "except:\n",
    "    print('No cookies pass needed')"
   ]
  },
  {
   "cell_type": "code",
   "execution_count": 37,
   "id": "0fb842f0",
   "metadata": {},
   "outputs": [],
   "source": [
    "first = driver.find_elements(By.XPATH, '//h3[@class=\"LC20lb MBeuO DKV0Md\"]')"
   ]
  },
  {
   "cell_type": "code",
   "execution_count": 39,
   "id": "70e46775",
   "metadata": {},
   "outputs": [
    {
     "data": {
      "text/plain": [
       "10"
      ]
     },
     "execution_count": 39,
     "metadata": {},
     "output_type": "execute_result"
    }
   ],
   "source": [
    "len(first)"
   ]
  },
  {
   "cell_type": "code",
   "execution_count": 40,
   "id": "b3ea2220",
   "metadata": {},
   "outputs": [],
   "source": [
    "contents = driver.find_elements(By.XPATH, '//div[@class=\"yuRUbf\"]')"
   ]
  },
  {
   "cell_type": "code",
   "execution_count": 44,
   "id": "97aff716",
   "metadata": {},
   "outputs": [
    {
     "data": {
      "text/plain": [
       "\"Offres d'emploi “29 Head Of Data Science” - Paris et ...\\nLinkedIn\\nhttps://fr.linkedin.com › jobs › head-of-data-science-emp...\""
      ]
     },
     "execution_count": 44,
     "metadata": {},
     "output_type": "execute_result"
    }
   ],
   "source": [
    "contents[1].text"
   ]
  }
 ],
 "metadata": {
  "kernelspec": {
   "display_name": "Python 3 (ipykernel)",
   "language": "python",
   "name": "python3"
  },
  "language_info": {
   "codemirror_mode": {
    "name": "ipython",
    "version": 3
   },
   "file_extension": ".py",
   "mimetype": "text/x-python",
   "name": "python",
   "nbconvert_exporter": "python",
   "pygments_lexer": "ipython3",
   "version": "3.9.1"
  }
 },
 "nbformat": 4,
 "nbformat_minor": 5
}
